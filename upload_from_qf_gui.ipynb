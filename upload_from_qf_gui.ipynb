{
 "cells": [
  {
   "cell_type": "code",
   "execution_count": null,
   "id": "d460c998",
   "metadata": {},
   "outputs": [],
   "source": [
    "#import libraries\n",
    "import bp3d\n",
    "import json\n",
    "import sys\n",
    "from datetime import datetime\n",
    "\n"
   ]
  },
  {
   "cell_type": "code",
   "execution_count": null,
   "id": "d141069b",
   "metadata": {},
   "outputs": [],
   "source": [
    "# enter the gui directory\n",
    "gui_dir = '/path/to/gui/directory/'\n",
    "\n",
    "date = datetime.today().strftime('%Y-%m-%d')\n",
    "\n",
    "# Load parameters from JSON file\n",
    "with open(gui_dir + 'bp3d_parameters.json', 'r') as json_file:\n",
    "    loaded_parameters = json.load(json_file)\n"
   ]
  },
  {
   "cell_type": "code",
   "execution_count": null,
   "id": "02afac47",
   "metadata": {},
   "outputs": [],
   "source": [
    "# Assign loaded parameters from JSON file\n",
    "site = loaded_parameters[\"site\"]\n",
    "c = bp3d.Client(user=loaded_parameters[\"user\"], password=loaded_parameters[\"password\"])\n",
    "wind_speed = loaded_parameters[\"wind_speed\"]\n",
    "wind_direction = loaded_parameters[\"wind_direction\"]\n",
    "\n",
    "ensemble_name = f'{site} {date} Ensemble'\n",
    "\n",
    "path = gui_dir\n",
    "\n",
    "#upload fuels\n",
    "qf_ensemble = c.import_qfgui_project(name = ensemble_name, path = path)\n",
    "\n",
    "#add ignition\n",
    "pattern = f'{path}/ignition_pattern.json'\n",
    "ign  = qf_ensemble.add_ignition(dat = f'{path}/ignite.dat', pattern = pattern)\n",
    "\n",
    "#add environmental conditions\n",
    "qf_ensemble.add_runs(\n",
    "                ignition=ign,\n",
    "                wind_speed=wind_speed,\n",
    "                wind_direction=wind_direction,\n",
    "                replace=True)\n",
    "\n",
    "#run ensemble\n",
    "qf_ensemble.execute()"
   ]
  }
 ],
 "metadata": {
  "language_info": {
   "name": "python"
  }
 },
 "nbformat": 4,
 "nbformat_minor": 5
}
